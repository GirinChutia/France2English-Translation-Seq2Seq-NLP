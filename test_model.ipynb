{
 "cells": [
  {
   "cell_type": "code",
   "execution_count": 1,
   "metadata": {},
   "outputs": [],
   "source": [
    "from model import EncoderRNN, AttnDecoderRNN\n",
    "from utils import SOS_token, get_dataloader, prepareData\n",
    "import torch"
   ]
  },
  {
   "cell_type": "code",
   "execution_count": 2,
   "metadata": {},
   "outputs": [],
   "source": [
    "from training_utils import  evaluateAndShowAttention, evaluateRandomly"
   ]
  },
  {
   "cell_type": "code",
   "execution_count": 3,
   "metadata": {},
   "outputs": [
    {
     "name": "stdout",
     "output_type": "stream",
     "text": [
      "Reading lines...\n"
     ]
    }
   ],
   "source": [
    "hidden_size = 128\n",
    "batch_size = 64\n",
    "MAX_LENGTH = 10\n",
    "eng_prefixes = (\n",
    "    \"i am \",\n",
    "    \"i m \",\n",
    "    \"he is\",\n",
    "    \"he s \",\n",
    "    \"she is\",\n",
    "    \"she s \",\n",
    "    \"you are\",\n",
    "    \"you re \",\n",
    "    \"we are\",\n",
    "    \"we re \",\n",
    "    \"they are\",\n",
    "    \"they re \",\n",
    ")\n",
    "\n",
    "dataset_path = \"data/\"\n",
    "\n",
    "device = torch.device(\"cuda\" if torch.cuda.is_available() else \"cpu\")\n",
    "\n",
    "input_lang, output_lang, pairs = prepareData(\n",
    "        \"eng\",\n",
    "        \"fra\",\n",
    "        True,\n",
    "        dataset_path=dataset_path,\n",
    "        MAX_LENGTH=MAX_LENGTH,\n",
    "        eng_prefixes=eng_prefixes,\n",
    "    )"
   ]
  },
  {
   "cell_type": "code",
   "execution_count": 4,
   "metadata": {},
   "outputs": [],
   "source": [
    "encoder = EncoderRNN(input_lang.n_words, hidden_size).to(device)\n",
    "decoder = AttnDecoderRNN(\n",
    "    hidden_size=hidden_size,\n",
    "    output_size=output_lang.n_words,\n",
    "    dropout_p=0.1,\n",
    "    **{\"MAX_LENGTH\": MAX_LENGTH, \"device\": device, \"SOS_token\": SOS_token},\n",
    ").to(device)"
   ]
  },
  {
   "cell_type": "code",
   "execution_count": 5,
   "metadata": {},
   "outputs": [],
   "source": [
    "# Load trained model\n",
    "encoder.load_state_dict(torch.load(\"encoder.pt\"))\n",
    "decoder.load_state_dict(torch.load(\"decoder.pt\"))\n",
    "\n",
    "encoder = encoder.eval()\n",
    "decoder = decoder.eval()"
   ]
  },
  {
   "cell_type": "code",
   "execution_count": 12,
   "metadata": {},
   "outputs": [
    {
     "name": "stdout",
     "output_type": "stream",
     "text": [
      "FR       : ils sont tous deux bons\n",
      "ENG (GT) : they are both good\n",
      "ENG (Pred): they are both good <EOS>\n",
      "\n",
      "FR       : je ne suis plus votre mari\n",
      "ENG (GT) : i m not your husband anymore\n",
      "ENG (Pred): i m not your husband anymore <EOS>\n",
      "\n",
      "FR       : nous sommes en securite ici\n",
      "ENG (GT) : we re safe here\n",
      "ENG (Pred): we re safe here <EOS>\n",
      "\n"
     ]
    }
   ],
   "source": [
    "evaluateRandomly(encoder, decoder, pairs, input_lang, output_lang, n=3)"
   ]
  },
  {
   "cell_type": "code",
   "execution_count": 14,
   "metadata": {},
   "outputs": [
    {
     "name": "stdout",
     "output_type": "stream",
     "text": [
      "input = vous etes plus grand que moi\n",
      "output = you are taller than me <EOS>\n"
     ]
    },
    {
     "data": {
      "image/png": "[encoded data removed]",
      "text/plain": [
       "<Figure size 640x480 with 2 Axes>"
      ]
     },
     "metadata": {},
     "output_type": "display_data"
    }
   ],
   "source": [
    "evaluateAndShowAttention('vous etes plus grand que moi', encoder, decoder, input_lang, output_lang)"
   ]
  }
 ],
 "metadata": {
  "kernelspec": {
   "display_name": "genai_env",
   "language": "python",
   "name": "python3"
  },
  "language_info": {
   "codemirror_mode": {
    "name": "ipython",
    "version": 3
   },
   "file_extension": ".py",
   "mimetype": "text/x-python",
   "name": "python",
   "nbconvert_exporter": "python",
   "pygments_lexer": "ipython3",
   "version": "3.10.11"
  }
 },
 "nbformat": 4,
 "nbformat_minor": 2
}
